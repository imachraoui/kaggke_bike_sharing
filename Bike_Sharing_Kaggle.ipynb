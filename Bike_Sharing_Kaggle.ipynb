{
 "cells": [
  {
   "cell_type": "code",
   "execution_count": 1,
   "metadata": {
    "collapsed": false
   },
   "outputs": [],
   "source": [
    "import pandas\n",
    "import numpy as np\n",
    "import matplotlib.pyplot as plt\n",
    "import datetime\n",
    "from sklearn.cluster import KMeans\n",
    "from sklearn.decomposition import PCA\n",
    "from sklearn.feature_extraction import DictVectorizer\n",
    "from sklearn import linear_model\n",
    "from sklearn.metrics import mean_squared_error\n",
    "from sklearn.cross_validation import train_test_split\n",
    "from ggplot import *"
   ]
  },
  {
   "cell_type": "markdown",
   "metadata": {},
   "source": [
    "datetime - hourly date + timestamp  \n",
    "\n",
    "season -  1 = spring, 2 = summer, 3 = fall, 4 = winter \n",
    "\n",
    "holiday - whether the day is considered a holiday\n",
    "\n",
    "workingday - whether the day is neither a weekend nor holiday\n",
    "\n",
    "weather - 1: Clear, Few clouds, Partly cloudy, Partly cloudy \n",
    "\n",
    "2: Mist + Cloudy, Mist + Broken clouds, Mist + Few clouds, Mist \n",
    "\n",
    "3: Light Snow, Light Rain + Thunderstorm + Scattered clouds, Light Rain + Scattered clouds \n",
    "\n",
    "4: Heavy Rain + Ice Pallets + Thunderstorm + Mist, Snow + Fog \n",
    "\n",
    "temp - temperature in Celsius\n",
    "\n",
    "atemp - \"feels like\" temperature in Celsius\n",
    "\n",
    "humidity - relative humidity\n",
    "\n",
    "windspeed - wind speed\n",
    "\n",
    "casual - number of non-registered user rentals initiated\n",
    "\n",
    "registered - number of registered user rentals initiated\n",
    "\n",
    "count - number of total rentals"
   ]
  },
  {
   "cell_type": "code",
   "execution_count": 2,
   "metadata": {
    "collapsed": true
   },
   "outputs": [],
   "source": [
    "PATH= './'\n",
    "\n",
    "# Loading training data\n",
    "x_train= pandas.read_csv(PATH+'train.csv', header=0)  \n",
    "\n",
    "# Loading test data\n",
    "x_test = pandas.read_csv(PATH+'test.csv', header=0)\n"
   ]
  },
  {
   "cell_type": "code",
   "execution_count": 3,
   "metadata": {
    "collapsed": false
   },
   "outputs": [],
   "source": [
    "# Isolate target variables in stand-alone vectores\n",
    "y = x_train[\"count\"]\n",
    "registered = x_train[\"registered\"]\n",
    "casual = x_train[\"casual\"]\n",
    "\n",
    "# Evict the target variables from the explicative matrix\n",
    "x_train = x_train.drop([\"count\",\"casual\",\"registered\"],axis=1)"
   ]
  },
  {
   "cell_type": "code",
   "execution_count": 5,
   "metadata": {
    "collapsed": false
   },
   "outputs": [],
   "source": [
    "x_train[\"datetime\"] = pandas.to_datetime(x_train[\"datetime\"])"
   ]
  },
  {
   "cell_type": "code",
   "execution_count": 62,
   "metadata": {
    "collapsed": false
   },
   "outputs": [],
   "source": [
    "x_test[\"datetime\"] = pandas.to_datetime(x_test[\"datetime\"])"
   ]
  },
  {
   "cell_type": "markdown",
   "metadata": {},
   "source": [
    "### Days and hours extraction"
   ]
  },
  {
   "cell_type": "code",
   "execution_count": 6,
   "metadata": {
    "collapsed": false
   },
   "outputs": [],
   "source": [
    "x_train[\"hour\"] = x_train[\"datetime\"].dt.hour\n",
    "x_train[\"day\"] =  x_train[\"datetime\"].dt.day\n",
    "x_train[\"month\"] =  x_train[\"datetime\"].dt.month\n",
    "x_train[\"year\"] =  x_train[\"datetime\"].dt.year"
   ]
  },
  {
   "cell_type": "code",
   "execution_count": 67,
   "metadata": {
    "collapsed": true
   },
   "outputs": [],
   "source": [
    "x_test[\"hour\"] = x_test[\"datetime\"].dt.hour\n",
    "x_test[\"day\"] =  x_test[\"datetime\"].dt.day\n",
    "x_test[\"month\"] =  x_test[\"datetime\"].dt.month\n",
    "x_test[\"year\"] =  x_test[\"datetime\"].dt.year"
   ]
  },
  {
   "cell_type": "code",
   "execution_count": 8,
   "metadata": {
    "collapsed": false
   },
   "outputs": [
    {
     "data": {
      "text/html": [
       "<div>\n",
       "<table border=\"1\" class=\"dataframe\">\n",
       "  <thead>\n",
       "    <tr style=\"text-align: right;\">\n",
       "      <th></th>\n",
       "      <th>season</th>\n",
       "      <th>holiday</th>\n",
       "      <th>workingday</th>\n",
       "      <th>weather</th>\n",
       "      <th>temp</th>\n",
       "      <th>atemp</th>\n",
       "      <th>humidity</th>\n",
       "      <th>windspeed</th>\n",
       "      <th>hour</th>\n",
       "      <th>day</th>\n",
       "      <th>month</th>\n",
       "      <th>year</th>\n",
       "    </tr>\n",
       "  </thead>\n",
       "  <tbody>\n",
       "    <tr>\n",
       "      <th>season</th>\n",
       "      <td>1.000000</td>\n",
       "      <td>0.029368</td>\n",
       "      <td>-0.008126</td>\n",
       "      <td>0.008879</td>\n",
       "      <td>0.258689</td>\n",
       "      <td>0.264744</td>\n",
       "      <td>0.190610</td>\n",
       "      <td>-0.147121</td>\n",
       "      <td>-0.007108</td>\n",
       "      <td>0.002147</td>\n",
       "      <td>0.970592</td>\n",
       "      <td>-0.004299</td>\n",
       "    </tr>\n",
       "    <tr>\n",
       "      <th>holiday</th>\n",
       "      <td>0.029368</td>\n",
       "      <td>1.000000</td>\n",
       "      <td>-0.250491</td>\n",
       "      <td>-0.007074</td>\n",
       "      <td>0.000295</td>\n",
       "      <td>-0.005215</td>\n",
       "      <td>0.001929</td>\n",
       "      <td>0.008409</td>\n",
       "      <td>-0.000313</td>\n",
       "      <td>-0.018885</td>\n",
       "      <td>0.001795</td>\n",
       "      <td>0.012080</td>\n",
       "    </tr>\n",
       "    <tr>\n",
       "      <th>workingday</th>\n",
       "      <td>-0.008126</td>\n",
       "      <td>-0.250491</td>\n",
       "      <td>1.000000</td>\n",
       "      <td>0.033772</td>\n",
       "      <td>0.029966</td>\n",
       "      <td>0.024660</td>\n",
       "      <td>-0.010880</td>\n",
       "      <td>0.013373</td>\n",
       "      <td>0.002767</td>\n",
       "      <td>0.008691</td>\n",
       "      <td>-0.004279</td>\n",
       "      <td>-0.001945</td>\n",
       "    </tr>\n",
       "    <tr>\n",
       "      <th>weather</th>\n",
       "      <td>0.008879</td>\n",
       "      <td>-0.007074</td>\n",
       "      <td>0.033772</td>\n",
       "      <td>1.000000</td>\n",
       "      <td>-0.055035</td>\n",
       "      <td>-0.055376</td>\n",
       "      <td>0.406244</td>\n",
       "      <td>0.007261</td>\n",
       "      <td>-0.029836</td>\n",
       "      <td>-0.011182</td>\n",
       "      <td>0.011928</td>\n",
       "      <td>-0.012301</td>\n",
       "    </tr>\n",
       "    <tr>\n",
       "      <th>temp</th>\n",
       "      <td>0.258689</td>\n",
       "      <td>0.000295</td>\n",
       "      <td>0.029966</td>\n",
       "      <td>-0.055035</td>\n",
       "      <td>1.000000</td>\n",
       "      <td>0.984948</td>\n",
       "      <td>-0.064949</td>\n",
       "      <td>-0.017852</td>\n",
       "      <td>0.103132</td>\n",
       "      <td>0.015689</td>\n",
       "      <td>0.256888</td>\n",
       "      <td>0.061578</td>\n",
       "    </tr>\n",
       "    <tr>\n",
       "      <th>atemp</th>\n",
       "      <td>0.264744</td>\n",
       "      <td>-0.005215</td>\n",
       "      <td>0.024660</td>\n",
       "      <td>-0.055376</td>\n",
       "      <td>0.984948</td>\n",
       "      <td>1.000000</td>\n",
       "      <td>-0.043536</td>\n",
       "      <td>-0.057473</td>\n",
       "      <td>0.101361</td>\n",
       "      <td>0.012653</td>\n",
       "      <td>0.263558</td>\n",
       "      <td>0.058821</td>\n",
       "    </tr>\n",
       "    <tr>\n",
       "      <th>humidity</th>\n",
       "      <td>0.190610</td>\n",
       "      <td>0.001929</td>\n",
       "      <td>-0.010880</td>\n",
       "      <td>0.406244</td>\n",
       "      <td>-0.064949</td>\n",
       "      <td>-0.043536</td>\n",
       "      <td>1.000000</td>\n",
       "      <td>-0.318607</td>\n",
       "      <td>-0.195082</td>\n",
       "      <td>-0.007336</td>\n",
       "      <td>0.204476</td>\n",
       "      <td>-0.078799</td>\n",
       "    </tr>\n",
       "    <tr>\n",
       "      <th>windspeed</th>\n",
       "      <td>-0.147121</td>\n",
       "      <td>0.008409</td>\n",
       "      <td>0.013373</td>\n",
       "      <td>0.007261</td>\n",
       "      <td>-0.017852</td>\n",
       "      <td>-0.057473</td>\n",
       "      <td>-0.318607</td>\n",
       "      <td>1.000000</td>\n",
       "      <td>0.078390</td>\n",
       "      <td>0.032981</td>\n",
       "      <td>-0.150864</td>\n",
       "      <td>-0.014640</td>\n",
       "    </tr>\n",
       "    <tr>\n",
       "      <th>hour</th>\n",
       "      <td>-0.007108</td>\n",
       "      <td>-0.000313</td>\n",
       "      <td>0.002767</td>\n",
       "      <td>-0.029836</td>\n",
       "      <td>0.103132</td>\n",
       "      <td>0.101361</td>\n",
       "      <td>-0.195082</td>\n",
       "      <td>0.078390</td>\n",
       "      <td>1.000000</td>\n",
       "      <td>0.012666</td>\n",
       "      <td>-0.008003</td>\n",
       "      <td>-0.004807</td>\n",
       "    </tr>\n",
       "    <tr>\n",
       "      <th>day</th>\n",
       "      <td>0.002147</td>\n",
       "      <td>-0.018885</td>\n",
       "      <td>0.008691</td>\n",
       "      <td>-0.011182</td>\n",
       "      <td>0.015689</td>\n",
       "      <td>0.012653</td>\n",
       "      <td>-0.007336</td>\n",
       "      <td>0.032981</td>\n",
       "      <td>0.012666</td>\n",
       "      <td>1.000000</td>\n",
       "      <td>0.000949</td>\n",
       "      <td>0.000341</td>\n",
       "    </tr>\n",
       "    <tr>\n",
       "      <th>month</th>\n",
       "      <td>0.970592</td>\n",
       "      <td>0.001795</td>\n",
       "      <td>-0.004279</td>\n",
       "      <td>0.011928</td>\n",
       "      <td>0.256888</td>\n",
       "      <td>0.263558</td>\n",
       "      <td>0.204476</td>\n",
       "      <td>-0.150864</td>\n",
       "      <td>-0.008003</td>\n",
       "      <td>0.000949</td>\n",
       "      <td>1.000000</td>\n",
       "      <td>-0.005513</td>\n",
       "    </tr>\n",
       "    <tr>\n",
       "      <th>year</th>\n",
       "      <td>-0.004299</td>\n",
       "      <td>0.012080</td>\n",
       "      <td>-0.001945</td>\n",
       "      <td>-0.012301</td>\n",
       "      <td>0.061578</td>\n",
       "      <td>0.058821</td>\n",
       "      <td>-0.078799</td>\n",
       "      <td>-0.014640</td>\n",
       "      <td>-0.004807</td>\n",
       "      <td>0.000341</td>\n",
       "      <td>-0.005513</td>\n",
       "      <td>1.000000</td>\n",
       "    </tr>\n",
       "  </tbody>\n",
       "</table>\n",
       "</div>"
      ],
      "text/plain": [
       "              season   holiday  workingday   weather      temp     atemp  \\\n",
       "season      1.000000  0.029368   -0.008126  0.008879  0.258689  0.264744   \n",
       "holiday     0.029368  1.000000   -0.250491 -0.007074  0.000295 -0.005215   \n",
       "workingday -0.008126 -0.250491    1.000000  0.033772  0.029966  0.024660   \n",
       "weather     0.008879 -0.007074    0.033772  1.000000 -0.055035 -0.055376   \n",
       "temp        0.258689  0.000295    0.029966 -0.055035  1.000000  0.984948   \n",
       "atemp       0.264744 -0.005215    0.024660 -0.055376  0.984948  1.000000   \n",
       "humidity    0.190610  0.001929   -0.010880  0.406244 -0.064949 -0.043536   \n",
       "windspeed  -0.147121  0.008409    0.013373  0.007261 -0.017852 -0.057473   \n",
       "hour       -0.007108 -0.000313    0.002767 -0.029836  0.103132  0.101361   \n",
       "day         0.002147 -0.018885    0.008691 -0.011182  0.015689  0.012653   \n",
       "month       0.970592  0.001795   -0.004279  0.011928  0.256888  0.263558   \n",
       "year       -0.004299  0.012080   -0.001945 -0.012301  0.061578  0.058821   \n",
       "\n",
       "            humidity  windspeed      hour       day     month      year  \n",
       "season      0.190610  -0.147121 -0.007108  0.002147  0.970592 -0.004299  \n",
       "holiday     0.001929   0.008409 -0.000313 -0.018885  0.001795  0.012080  \n",
       "workingday -0.010880   0.013373  0.002767  0.008691 -0.004279 -0.001945  \n",
       "weather     0.406244   0.007261 -0.029836 -0.011182  0.011928 -0.012301  \n",
       "temp       -0.064949  -0.017852  0.103132  0.015689  0.256888  0.061578  \n",
       "atemp      -0.043536  -0.057473  0.101361  0.012653  0.263558  0.058821  \n",
       "humidity    1.000000  -0.318607 -0.195082 -0.007336  0.204476 -0.078799  \n",
       "windspeed  -0.318607   1.000000  0.078390  0.032981 -0.150864 -0.014640  \n",
       "hour       -0.195082   0.078390  1.000000  0.012666 -0.008003 -0.004807  \n",
       "day        -0.007336   0.032981  0.012666  1.000000  0.000949  0.000341  \n",
       "month       0.204476  -0.150864 -0.008003  0.000949  1.000000 -0.005513  \n",
       "year       -0.078799  -0.014640 -0.004807  0.000341 -0.005513  1.000000  "
      ]
     },
     "execution_count": 8,
     "metadata": {},
     "output_type": "execute_result"
    }
   ],
   "source": [
    "x_train.corr()"
   ]
  },
  {
   "cell_type": "code",
   "execution_count": 10,
   "metadata": {
    "collapsed": true
   },
   "outputs": [],
   "source": [
    "x_train['season']=x_train['season'].astype('category')\n",
    "x_train['weather']=x_train['weather'].astype('category')"
   ]
  },
  {
   "cell_type": "code",
   "execution_count": 64,
   "metadata": {
    "collapsed": true
   },
   "outputs": [],
   "source": [
    "x_test['season']=x_test['season'].astype('category')\n",
    "x_test['weather']=x_test['weather'].astype('category')"
   ]
  },
  {
   "cell_type": "code",
   "execution_count": 11,
   "metadata": {
    "collapsed": false
   },
   "outputs": [
    {
     "name": "stdout",
     "output_type": "stream",
     "text": [
      "** Nom des variables : \n",
      " \n",
      "Index(['datetime', 'season', 'holiday', 'workingday', 'weather', 'temp',\n",
      "       'atemp', 'humidity', 'windspeed', 'hour', 'day', 'month', 'year'],\n",
      "      dtype='object')\n",
      "\n",
      " ** Stats descriptives sur les variables numériques : \n",
      " \n",
      "            holiday    workingday         temp         atemp      humidity  \\\n",
      "count  10886.000000  10886.000000  10886.00000  10886.000000  10886.000000   \n",
      "mean       0.028569      0.680875     20.23086     23.655084     61.886460   \n",
      "std        0.166599      0.466159      7.79159      8.474601     19.245033   \n",
      "min        0.000000      0.000000      0.82000      0.760000      0.000000   \n",
      "25%        0.000000      0.000000     13.94000     16.665000     47.000000   \n",
      "50%        0.000000      1.000000     20.50000     24.240000     62.000000   \n",
      "75%        0.000000      1.000000     26.24000     31.060000     77.000000   \n",
      "max        1.000000      1.000000     41.00000     45.455000    100.000000   \n",
      "\n",
      "          windspeed          hour           day         month          year  \n",
      "count  10886.000000  10886.000000  10886.000000  10886.000000  10886.000000  \n",
      "mean      12.799395     11.543175     10.032886      6.520209   2011.501745  \n",
      "std        8.164537      6.908784      5.583790      3.444381      0.500204  \n",
      "min        0.000000      0.000000      1.000000      1.000000   2010.000000  \n",
      "25%        7.001500      6.000000      5.000000      4.000000   2011.000000  \n",
      "50%       12.998000     12.000000     10.000000      7.000000   2012.000000  \n",
      "75%       16.997900     18.000000     15.000000     10.000000   2012.000000  \n",
      "max       56.996900     23.000000     31.000000     12.000000   2012.000000  \n",
      "\n",
      "\n",
      "** Nombre de valeurs manquantes dans les données de training : \n",
      " \n",
      "datetime      0\n",
      "season        0\n",
      "holiday       0\n",
      "workingday    0\n",
      "weather       0\n",
      "temp          0\n",
      "atemp         0\n",
      "humidity      0\n",
      "windspeed     0\n",
      "hour          0\n",
      "day           0\n",
      "month         0\n",
      "year          0\n",
      "dtype: int64\n"
     ]
    }
   ],
   "source": [
    "print(\"** Nom des variables : \\n \")\n",
    "print(x_train.columns)\n",
    "\n",
    "print(\"\\n ** Stats descriptives sur les variables numériques : \\n \")\n",
    "print(x_train.describe())\n",
    "\n",
    "print(\"\\n\")\n",
    "print(\"** Nombre de valeurs manquantes dans les données de training : \\n \")\n",
    "print(x_train.isnull().sum(axis=0))"
   ]
  },
  {
   "cell_type": "markdown",
   "metadata": {},
   "source": [
    "Eclatement des variables catégorielles en plusieus variables dichotomiques"
   ]
  },
  {
   "cell_type": "code",
   "execution_count": 65,
   "metadata": {
    "collapsed": true
   },
   "outputs": [],
   "source": [
    "def dim_feature(x, feature_name):\n",
    "    dv =DictVectorizer()\n",
    "    z=dv.fit_transform(pandas.DataFrame(x[feature_name].apply(str)).to_dict(orient='records'))\n",
    "    feature_dimmed = pandas.DataFrame(z.toarray(),columns=dv.get_feature_names())\n",
    "    feature_dimmed = feature_dimmed.drop(feature_dimmed.columns[-1],axis=1)\n",
    "    return feature_dimmed"
   ]
  },
  {
   "cell_type": "code",
   "execution_count": 68,
   "metadata": {
    "collapsed": false
   },
   "outputs": [],
   "source": [
    "seasons_dimmed = dim_feature(x_train, 'season')\n",
    "weather_dimmed = dim_feature(x_train, 'weather')\n",
    "hour_dimmed = dim_feature(x_train, 'hour')\n",
    "day_dimmed = dim_feature(x_train, 'day')\n",
    "month_dimmed =dim_feature(x_train, 'month')\n",
    "#year_dimmed =dim_feature(x_train,'year')\n",
    "\n",
    "seasons_dimmed_test = dim_feature(x_test, 'season')\n",
    "weather_dimmed_test = dim_feature(x_test, 'weather')\n",
    "hour_dimmed_test = dim_feature(x_test, 'hour')\n",
    "day_dimmed_test = dim_feature(x_test, 'day')\n",
    "month_dimmed_test =dim_feature(x_test, 'month')\n",
    "#year_dimmed_test =dim_feature(x_test,'year')"
   ]
  },
  {
   "cell_type": "code",
   "execution_count": 79,
   "metadata": {
    "collapsed": false
   },
   "outputs": [],
   "source": [
    "x_train_final = pandas.concat([x_train,seasons_dimmed,weather_dimmed,hour_dimmed,month_dimmed,day_dimmed],axis=1)\n",
    "\n",
    "x_train_final = x_train_final.drop('weather',axis=1)\n",
    "x_train_final = x_train_final.drop('season',axis=1)"
   ]
  },
  {
   "cell_type": "code",
   "execution_count": 114,
   "metadata": {
    "collapsed": false
   },
   "outputs": [],
   "source": [
    "x_test_final = pandas.concat([x_test,seasons_dimmed_test,weather_dimmed_test,hour_dimmed_test,month_dimmed_test,day_dimmed_test],axis=1)\n",
    "\n",
    "x_test_final = x_test_final.drop('weather',axis=1)\n",
    "x_test_final = x_test_final.drop('season',axis=1)"
   ]
  },
  {
   "cell_type": "code",
   "execution_count": 81,
   "metadata": {
    "collapsed": false
   },
   "outputs": [
    {
     "data": {
      "text/plain": [
       "Index(['datetime', 'holiday', 'workingday', 'temp', 'atemp', 'humidity',\n",
       "       'windspeed', 'hour', 'day', 'month', 'year', 'season=1', 'season=2',\n",
       "       'season=3', 'weather=1', 'weather=2', 'weather=3', 'hour=0', 'hour=1',\n",
       "       'hour=10', 'hour=11', 'hour=12', 'hour=13', 'hour=14', 'hour=15',\n",
       "       'hour=16', 'hour=17', 'hour=18', 'hour=19', 'hour=2', 'hour=20',\n",
       "       'hour=21', 'hour=22', 'hour=23', 'hour=3', 'hour=4', 'hour=5', 'hour=6',\n",
       "       'hour=7', 'hour=8', 'month=1', 'month=10', 'month=11', 'month=12',\n",
       "       'month=2', 'month=3', 'month=4', 'month=5', 'month=6', 'month=7',\n",
       "       'month=8', 'day=20.0', 'day=21.0', 'day=22.0', 'day=23.0', 'day=24.0',\n",
       "       'day=25.0', 'day=26.0', 'day=27.0', 'day=28.0', 'day=29.0', 'day=30.0',\n",
       "       'day=31.0'],\n",
       "      dtype='object')"
      ]
     },
     "execution_count": 81,
     "metadata": {},
     "output_type": "execute_result"
    }
   ],
   "source": [
    "x_train_final.columns"
   ]
  },
  {
   "cell_type": "code",
   "execution_count": 104,
   "metadata": {
    "collapsed": false
   },
   "outputs": [
    {
     "data": {
      "text/plain": [
       "array([ 20.,  21.,  22.,  23.,  24.,  25.,  26.,  27.,  28.,  29.,  30.,\n",
       "        31.])"
      ]
     },
     "execution_count": 104,
     "metadata": {},
     "output_type": "execute_result"
    }
   ],
   "source": [
    "np.unique(x_train[x_train['day'].notnull()]['day'])"
   ]
  },
  {
   "cell_type": "code",
   "execution_count": 105,
   "metadata": {
    "collapsed": false
   },
   "outputs": [
    {
     "data": {
      "text/plain": [
       "array([20, 21, 22, 23, 24, 25, 26, 27, 28, 29, 30, 31], dtype=int64)"
      ]
     },
     "execution_count": 105,
     "metadata": {},
     "output_type": "execute_result"
    }
   ],
   "source": [
    "np.unique(x_test[x_test['day'].notnull()]['day'])"
   ]
  },
  {
   "cell_type": "code",
   "execution_count": 83,
   "metadata": {
    "collapsed": true
   },
   "outputs": [],
   "source": [
    "x_train_no_date = x_train_final.drop([\"datetime\",\"year\",\"hour\",\"day\",\"month\"], axis=1)"
   ]
  },
  {
   "cell_type": "code",
   "execution_count": 115,
   "metadata": {
    "collapsed": true
   },
   "outputs": [],
   "source": [
    "x_test_no_date = x_test_final.drop([\"year\",\"hour\",\"day\",\"month\"], axis=1)"
   ]
  },
  {
   "cell_type": "code",
   "execution_count": 107,
   "metadata": {
    "collapsed": false
   },
   "outputs": [],
   "source": [
    "x_train_no_date = x_train_no_date.drop('day=31.0',axis=1)"
   ]
  },
  {
   "cell_type": "code",
   "execution_count": 85,
   "metadata": {
    "collapsed": false
   },
   "outputs": [
    {
     "data": {
      "text/plain": [
       "Index(['holiday', 'workingday', 'temp', 'atemp', 'humidity', 'windspeed',\n",
       "       'season=1', 'season=2', 'season=3', 'weather=1', 'weather=2',\n",
       "       'weather=3', 'hour=0', 'hour=1', 'hour=10', 'hour=11', 'hour=12',\n",
       "       'hour=13', 'hour=14', 'hour=15', 'hour=16', 'hour=17', 'hour=18',\n",
       "       'hour=19', 'hour=2', 'hour=20', 'hour=21', 'hour=22', 'hour=23',\n",
       "       'hour=3', 'hour=4', 'hour=5', 'hour=6', 'hour=7', 'hour=8', 'month=1',\n",
       "       'month=10', 'month=11', 'month=12', 'month=2', 'month=3', 'month=4',\n",
       "       'month=5', 'month=6', 'month=7', 'month=8', 'day=20', 'day=21',\n",
       "       'day=22', 'day=23', 'day=24', 'day=25', 'day=26', 'day=27', 'day=28',\n",
       "       'day=29', 'day=30'],\n",
       "      dtype='object')"
      ]
     },
     "execution_count": 85,
     "metadata": {},
     "output_type": "execute_result"
    }
   ],
   "source": [
    "x_test_no_date.columns"
   ]
  },
  {
   "cell_type": "markdown",
   "metadata": {},
   "source": [
    "## Setting up the model "
   ]
  },
  {
   "cell_type": "code",
   "execution_count": 108,
   "metadata": {
    "collapsed": false
   },
   "outputs": [],
   "source": [
    "X_train, X_test, count_train, count_test = train_test_split(x_train_no_date, y, test_size=0.33, random_state=1234)"
   ]
  },
  {
   "cell_type": "code",
   "execution_count": 55,
   "metadata": {
    "collapsed": true
   },
   "outputs": [],
   "source": [
    "X_train_re, X_test_re, registered_train, registered_test = train_test_split(x_train_no_date, registered, test_size=0.33, random_state=1234)"
   ]
  },
  {
   "cell_type": "code",
   "execution_count": 56,
   "metadata": {
    "collapsed": true
   },
   "outputs": [],
   "source": [
    "X_train_ca, X_test_ca, casual_train, casual_test = train_test_split(x_train_no_date, casual, test_size=0.33, random_state=1234)"
   ]
  },
  {
   "cell_type": "markdown",
   "metadata": {},
   "source": [
    "Mean squared error of log($\\hat{y} +1 $) and log(y + 1)"
   ]
  },
  {
   "cell_type": "code",
   "execution_count": 180,
   "metadata": {
    "collapsed": true
   },
   "outputs": [],
   "source": [
    "def compute_kaggle_score(y_hat,y):\n",
    "    return mean_squared_error(pandas.Series(np.log(y_hat+1)),np.log(y+1))"
   ]
  },
  {
   "cell_type": "markdown",
   "metadata": {},
   "source": [
    "### 1) Estimating count directly"
   ]
  },
  {
   "cell_type": "code",
   "execution_count": 109,
   "metadata": {
    "collapsed": false
   },
   "outputs": [
    {
     "data": {
      "text/plain": [
       "RidgeCV(alphas=[0.1, 1.0, 10.0], cv=5, fit_intercept=True, gcv_mode=None,\n",
       "    normalize=True,\n",
       "    scoring=<function mean_squared_error at 0x00000000097892F0>,\n",
       "    store_cv_values=False)"
      ]
     },
     "execution_count": 109,
     "metadata": {},
     "output_type": "execute_result"
    }
   ],
   "source": [
    "reg = linear_model.RidgeCV(alphas=[0.1, 1.0, 10.0], cv=5, fit_intercept=True,normalize=True, scoring = mean_squared_error)\n",
    "reg.fit(X_train,count_train)       "
   ]
  },
  {
   "cell_type": "code",
   "execution_count": 181,
   "metadata": {
    "collapsed": false
   },
   "outputs": [
    {
     "name": "stdout",
     "output_type": "stream",
     "text": [
      "1.0874114636\n",
      "1.18799122752\n"
     ]
    }
   ],
   "source": [
    "y_hat_train = reg.predict(X_train)\n",
    "y_hat_test = reg.predict(X_test)\n",
    "\n",
    "# Training error\n",
    "print(compute_kaggle_score(abs(y_hat_train),count_train))\n",
    "\n",
    "# Test error\n",
    "print(compute_kaggle_score(abs(y_hat_test),count_test))"
   ]
  },
  {
   "cell_type": "markdown",
   "metadata": {},
   "source": [
    "### 2) Estimating registered and casual one by one , and sum "
   ]
  },
  {
   "cell_type": "code",
   "execution_count": 89,
   "metadata": {
    "collapsed": false
   },
   "outputs": [
    {
     "data": {
      "text/plain": [
       "RidgeCV(alphas=[0.1, 1.0, 10.0], cv=5, fit_intercept=True, gcv_mode=None,\n",
       "    normalize=True,\n",
       "    scoring=<function mean_squared_error at 0x00000000097892F0>,\n",
       "    store_cv_values=False)"
      ]
     },
     "execution_count": 89,
     "metadata": {},
     "output_type": "execute_result"
    }
   ],
   "source": [
    "reg = linear_model.RidgeCV(alphas=[0.1, 1.0, 10.0], cv=5, fit_intercept=True,normalize=True, scoring = mean_squared_error)\n",
    "reg.fit(X_train_re,registered_train)   "
   ]
  },
  {
   "cell_type": "code",
   "execution_count": 46,
   "metadata": {
    "collapsed": false
   },
   "outputs": [
    {
     "name": "stdout",
     "output_type": "stream",
     "text": [
      "9503.9540852\n",
      "9589.18491322\n"
     ]
    }
   ],
   "source": [
    "re_hat_train = reg.predict(X_train)\n",
    "re_hat_test = reg.predict(X_test)\n",
    "\n",
    "# Training error\n",
    "print(mean_squared_error(re_hat_train,registered_train))\n",
    "\n",
    "# Test error\n",
    "print(mean_squared_error(re_hat_test,registered_test))"
   ]
  },
  {
   "cell_type": "code",
   "execution_count": 47,
   "metadata": {
    "collapsed": false
   },
   "outputs": [
    {
     "data": {
      "text/plain": [
       "RidgeCV(alphas=[0.1, 1.0, 10.0], cv=5, fit_intercept=True, gcv_mode=None,\n",
       "    normalize=True,\n",
       "    scoring=<function mean_squared_error at 0x00000000097892F0>,\n",
       "    store_cv_values=False)"
      ]
     },
     "execution_count": 47,
     "metadata": {},
     "output_type": "execute_result"
    }
   ],
   "source": [
    "reg = linear_model.RidgeCV(alphas=[0.1, 1.0, 10.0], cv=5, fit_intercept=True,normalize=True, scoring = mean_squared_error)\n",
    "reg.fit(X_train_ca,casual_train)   "
   ]
  },
  {
   "cell_type": "code",
   "execution_count": 48,
   "metadata": {
    "collapsed": false
   },
   "outputs": [
    {
     "name": "stdout",
     "output_type": "stream",
     "text": [
      "1040.96482729\n",
      "1025.62780726\n"
     ]
    }
   ],
   "source": [
    "ca_hat_train = reg.predict(X_train)\n",
    "ca_hat_test = reg.predict(X_test)\n",
    "\n",
    "# Training error\n",
    "print(mean_squared_error(ca_hat_train,casual_train))\n",
    "\n",
    "# Test error\n",
    "print(mean_squared_error(ca_hat_test,casual_test))"
   ]
  },
  {
   "cell_type": "markdown",
   "metadata": {},
   "source": [
    "Sum of casual and registered"
   ]
  },
  {
   "cell_type": "code",
   "execution_count": 61,
   "metadata": {
    "collapsed": false
   },
   "outputs": [
    {
     "name": "stdout",
     "output_type": "stream",
     "text": [
      "40.623940704\n",
      "12967.033654\n"
     ]
    }
   ],
   "source": [
    "# Training error\n",
    "print(mean_squared_error(ca_hat_train + re_hat_train,count_train)/max((ca_hat_train+re_hat_train - count_train))\n",
    "\n",
    "# Test error\n",
    "print(mean_squared_error(ca_hat_test + re_hat_test,count_test))"
   ]
  },
  {
   "cell_type": "code",
   "execution_count": 137,
   "metadata": {
    "collapsed": false
   },
   "outputs": [
    {
     "data": {
      "text/plain": [
       "0.65530951512236424"
      ]
     },
     "execution_count": 137,
     "metadata": {},
     "output_type": "execute_result"
    }
   ],
   "source": [
    "reg.score(X_train,abs(count_train))"
   ]
  },
  {
   "cell_type": "code",
   "execution_count": 112,
   "metadata": {
    "collapsed": false
   },
   "outputs": [
    {
     "data": {
      "text/plain": [
       "0.63440006552013695"
      ]
     },
     "execution_count": 112,
     "metadata": {},
     "output_type": "execute_result"
    }
   ],
   "source": [
    "reg.score(X_test,count_test)"
   ]
  },
  {
   "cell_type": "code",
   "execution_count": 147,
   "metadata": {
    "collapsed": false
   },
   "outputs": [],
   "source": [
    "y_hat_test = reg.predict(x_test_no_date.drop(\"datetime\",axis=1))"
   ]
  },
  {
   "cell_type": "code",
   "execution_count": 148,
   "metadata": {
    "collapsed": false
   },
   "outputs": [],
   "source": [
    "y_hat_test = pandas.concat([x_test_no_date[\"datetime\"],pandas.DataFrame(y_hat_test)],axis=1)"
   ]
  },
  {
   "cell_type": "code",
   "execution_count": 149,
   "metadata": {
    "collapsed": false
   },
   "outputs": [],
   "source": [
    "y_hat_test.to_csv('results.csv',index=False)"
   ]
  },
  {
   "cell_type": "code",
   "execution_count": 145,
   "metadata": {
    "collapsed": false
   },
   "outputs": [
    {
     "data": {
      "text/plain": [
       "Index(['datetime', 0], dtype='object')"
      ]
     },
     "execution_count": 145,
     "metadata": {},
     "output_type": "execute_result"
    }
   ],
   "source": [
    "y_hat_test.columns"
   ]
  },
  {
   "cell_type": "code",
   "execution_count": null,
   "metadata": {
    "collapsed": true
   },
   "outputs": [],
   "source": []
  }
 ],
 "metadata": {
  "kernelspec": {
   "display_name": "Python 3",
   "language": "python",
   "name": "python3"
  },
  "language_info": {
   "codemirror_mode": {
    "name": "ipython",
    "version": 3
   },
   "file_extension": ".py",
   "mimetype": "text/x-python",
   "name": "python",
   "nbconvert_exporter": "python",
   "pygments_lexer": "ipython3",
   "version": "3.4.3"
  }
 },
 "nbformat": 4,
 "nbformat_minor": 0
}
