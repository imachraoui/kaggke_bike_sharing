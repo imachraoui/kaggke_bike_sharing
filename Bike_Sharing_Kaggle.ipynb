{
 "cells": [
  {
   "cell_type": "code",
   "execution_count": 77,
   "metadata": {
    "collapsed": false
   },
   "outputs": [],
   "source": [
    "import pandas\n",
    "import numpy as np\n",
    "import matplotlib.pyplot as plt\n",
    "import datetime\n",
    "from sklearn.cluster import KMeans\n",
    "from sklearn.decomposition import PCA\n",
    "from sklearn.feature_extraction import DictVectorizer\n",
    "from sklearn import linear_model\n",
    "from sklearn.metrics import mean_squared_error\n",
    "from sklearn.cross_validation import train_test_split\n",
    "from ggplot import *\n",
    "import matplotlib.pyplot as plt\n",
    "\n",
    "%matplotlib inline"
   ]
  },
  {
   "cell_type": "markdown",
   "metadata": {},
   "source": [
    "datetime - hourly date + timestamp  \n",
    "\n",
    "season -  1 = spring, 2 = summer, 3 = fall, 4 = winter \n",
    "\n",
    "holiday - whether the day is considered a holiday\n",
    "\n",
    "workingday - whether the day is neither a weekend nor holiday\n",
    "\n",
    "weather - 1: Clear, Few clouds, Partly cloudy, Partly cloudy \n",
    "\n",
    "2: Mist + Cloudy, Mist + Broken clouds, Mist + Few clouds, Mist \n",
    "\n",
    "3: Light Snow, Light Rain + Thunderstorm + Scattered clouds, Light Rain + Scattered clouds \n",
    "\n",
    "4: Heavy Rain + Ice Pallets + Thunderstorm + Mist, Snow + Fog \n",
    "\n",
    "temp - temperature in Celsius\n",
    "\n",
    "atemp - \"feels like\" temperature in Celsius\n",
    "\n",
    "humidity - relative humidity\n",
    "\n",
    "windspeed - wind speed\n",
    "\n",
    "casual - number of non-registered user rentals initiated\n",
    "\n",
    "registered - number of registered user rentals initiated\n",
    "\n",
    "count - number of total rentals"
   ]
  },
  {
   "cell_type": "code",
   "execution_count": 4,
   "metadata": {
    "collapsed": false
   },
   "outputs": [],
   "source": [
    "PATH= './'\n",
    "\n",
    "# Loading training data\n",
    "x_train= pandas.read_csv(PATH+'train.csv', header=0)  \n",
    "\n",
    "# Loading test data\n",
    "x_test = pandas.read_csv(PATH+'test.csv', header=0)\n"
   ]
  },
  {
   "cell_type": "code",
   "execution_count": 5,
   "metadata": {
    "collapsed": false
   },
   "outputs": [],
   "source": [
    "# Isolate target variables in stand-alone vectores\n",
    "y = x_train[\"count\"]\n",
    "registered = x_train[\"registered\"]\n",
    "casual = x_train[\"casual\"]\n",
    "\n",
    "# Evict the target variables from the explicative matrix\n",
    "x_train = x_train.drop([\"count\",\"casual\",\"registered\"],axis=1)"
   ]
  },
  {
   "cell_type": "code",
   "execution_count": 6,
   "metadata": {
    "collapsed": false
   },
   "outputs": [],
   "source": [
    "x_train[\"datetime\"] = pandas.to_datetime(x_train[\"datetime\"])"
   ]
  },
  {
   "cell_type": "code",
   "execution_count": 7,
   "metadata": {
    "collapsed": false
   },
   "outputs": [],
   "source": [
    "x_test[\"datetime\"] = pandas.to_datetime(x_test[\"datetime\"])"
   ]
  },
  {
   "cell_type": "markdown",
   "metadata": {},
   "source": [
    "### Days and hours extraction"
   ]
  },
  {
   "cell_type": "code",
   "execution_count": 8,
   "metadata": {
    "collapsed": false
   },
   "outputs": [],
   "source": [
    "x_train[\"hour\"] = x_train[\"datetime\"].dt.hour\n",
    "x_train[\"day\"] =  x_train[\"datetime\"].dt.day\n",
    "x_train[\"month\"] =  x_train[\"datetime\"].dt.month\n",
    "x_train[\"year\"] =  x_train[\"datetime\"].dt.year"
   ]
  },
  {
   "cell_type": "code",
   "execution_count": 9,
   "metadata": {
    "collapsed": true
   },
   "outputs": [],
   "source": [
    "x_test[\"hour\"] = x_test[\"datetime\"].dt.hour\n",
    "x_test[\"day\"] =  x_test[\"datetime\"].dt.day\n",
    "x_test[\"month\"] =  x_test[\"datetime\"].dt.month\n",
    "x_test[\"year\"] =  x_test[\"datetime\"].dt.year"
   ]
  },
  {
   "cell_type": "code",
   "execution_count": 10,
   "metadata": {
    "collapsed": false
   },
   "outputs": [
    {
     "data": {
      "text/html": [
       "<div>\n",
       "<table border=\"1\" class=\"dataframe\">\n",
       "  <thead>\n",
       "    <tr style=\"text-align: right;\">\n",
       "      <th></th>\n",
       "      <th>season</th>\n",
       "      <th>holiday</th>\n",
       "      <th>workingday</th>\n",
       "      <th>weather</th>\n",
       "      <th>temp</th>\n",
       "      <th>atemp</th>\n",
       "      <th>humidity</th>\n",
       "      <th>windspeed</th>\n",
       "      <th>hour</th>\n",
       "      <th>day</th>\n",
       "      <th>month</th>\n",
       "      <th>year</th>\n",
       "    </tr>\n",
       "  </thead>\n",
       "  <tbody>\n",
       "    <tr>\n",
       "      <th>season</th>\n",
       "      <td>1.000000</td>\n",
       "      <td>0.029368</td>\n",
       "      <td>-0.008126</td>\n",
       "      <td>0.008879</td>\n",
       "      <td>0.258689</td>\n",
       "      <td>0.264744</td>\n",
       "      <td>0.190610</td>\n",
       "      <td>-0.147121</td>\n",
       "      <td>-0.006546</td>\n",
       "      <td>0.001729</td>\n",
       "      <td>0.971524</td>\n",
       "      <td>-0.004797</td>\n",
       "    </tr>\n",
       "    <tr>\n",
       "      <th>holiday</th>\n",
       "      <td>0.029368</td>\n",
       "      <td>1.000000</td>\n",
       "      <td>-0.250491</td>\n",
       "      <td>-0.007074</td>\n",
       "      <td>0.000295</td>\n",
       "      <td>-0.005215</td>\n",
       "      <td>0.001929</td>\n",
       "      <td>0.008409</td>\n",
       "      <td>-0.000354</td>\n",
       "      <td>-0.015877</td>\n",
       "      <td>0.001731</td>\n",
       "      <td>0.012021</td>\n",
       "    </tr>\n",
       "    <tr>\n",
       "      <th>workingday</th>\n",
       "      <td>-0.008126</td>\n",
       "      <td>-0.250491</td>\n",
       "      <td>1.000000</td>\n",
       "      <td>0.033772</td>\n",
       "      <td>0.029966</td>\n",
       "      <td>0.024660</td>\n",
       "      <td>-0.010880</td>\n",
       "      <td>0.013373</td>\n",
       "      <td>0.002780</td>\n",
       "      <td>0.009829</td>\n",
       "      <td>-0.003394</td>\n",
       "      <td>-0.002482</td>\n",
       "    </tr>\n",
       "    <tr>\n",
       "      <th>weather</th>\n",
       "      <td>0.008879</td>\n",
       "      <td>-0.007074</td>\n",
       "      <td>0.033772</td>\n",
       "      <td>1.000000</td>\n",
       "      <td>-0.055035</td>\n",
       "      <td>-0.055376</td>\n",
       "      <td>0.406244</td>\n",
       "      <td>0.007261</td>\n",
       "      <td>-0.022740</td>\n",
       "      <td>-0.007890</td>\n",
       "      <td>0.012144</td>\n",
       "      <td>-0.012548</td>\n",
       "    </tr>\n",
       "    <tr>\n",
       "      <th>temp</th>\n",
       "      <td>0.258689</td>\n",
       "      <td>0.000295</td>\n",
       "      <td>0.029966</td>\n",
       "      <td>-0.055035</td>\n",
       "      <td>1.000000</td>\n",
       "      <td>0.984948</td>\n",
       "      <td>-0.064949</td>\n",
       "      <td>-0.017852</td>\n",
       "      <td>0.145430</td>\n",
       "      <td>0.015551</td>\n",
       "      <td>0.257589</td>\n",
       "      <td>0.061226</td>\n",
       "    </tr>\n",
       "    <tr>\n",
       "      <th>atemp</th>\n",
       "      <td>0.264744</td>\n",
       "      <td>-0.005215</td>\n",
       "      <td>0.024660</td>\n",
       "      <td>-0.055376</td>\n",
       "      <td>0.984948</td>\n",
       "      <td>1.000000</td>\n",
       "      <td>-0.043536</td>\n",
       "      <td>-0.057473</td>\n",
       "      <td>0.140343</td>\n",
       "      <td>0.011866</td>\n",
       "      <td>0.264173</td>\n",
       "      <td>0.058540</td>\n",
       "    </tr>\n",
       "    <tr>\n",
       "      <th>humidity</th>\n",
       "      <td>0.190610</td>\n",
       "      <td>0.001929</td>\n",
       "      <td>-0.010880</td>\n",
       "      <td>0.406244</td>\n",
       "      <td>-0.064949</td>\n",
       "      <td>-0.043536</td>\n",
       "      <td>1.000000</td>\n",
       "      <td>-0.318607</td>\n",
       "      <td>-0.278011</td>\n",
       "      <td>-0.011335</td>\n",
       "      <td>0.204537</td>\n",
       "      <td>-0.078606</td>\n",
       "    </tr>\n",
       "    <tr>\n",
       "      <th>windspeed</th>\n",
       "      <td>-0.147121</td>\n",
       "      <td>0.008409</td>\n",
       "      <td>0.013373</td>\n",
       "      <td>0.007261</td>\n",
       "      <td>-0.017852</td>\n",
       "      <td>-0.057473</td>\n",
       "      <td>-0.318607</td>\n",
       "      <td>1.000000</td>\n",
       "      <td>0.146631</td>\n",
       "      <td>0.036157</td>\n",
       "      <td>-0.150192</td>\n",
       "      <td>-0.015221</td>\n",
       "    </tr>\n",
       "    <tr>\n",
       "      <th>hour</th>\n",
       "      <td>-0.006546</td>\n",
       "      <td>-0.000354</td>\n",
       "      <td>0.002780</td>\n",
       "      <td>-0.022740</td>\n",
       "      <td>0.145430</td>\n",
       "      <td>0.140343</td>\n",
       "      <td>-0.278011</td>\n",
       "      <td>0.146631</td>\n",
       "      <td>1.000000</td>\n",
       "      <td>0.001132</td>\n",
       "      <td>-0.006818</td>\n",
       "      <td>-0.004234</td>\n",
       "    </tr>\n",
       "    <tr>\n",
       "      <th>day</th>\n",
       "      <td>0.001729</td>\n",
       "      <td>-0.015877</td>\n",
       "      <td>0.009829</td>\n",
       "      <td>-0.007890</td>\n",
       "      <td>0.015551</td>\n",
       "      <td>0.011866</td>\n",
       "      <td>-0.011335</td>\n",
       "      <td>0.036157</td>\n",
       "      <td>0.001132</td>\n",
       "      <td>1.000000</td>\n",
       "      <td>0.001974</td>\n",
       "      <td>0.001800</td>\n",
       "    </tr>\n",
       "    <tr>\n",
       "      <th>month</th>\n",
       "      <td>0.971524</td>\n",
       "      <td>0.001731</td>\n",
       "      <td>-0.003394</td>\n",
       "      <td>0.012144</td>\n",
       "      <td>0.257589</td>\n",
       "      <td>0.264173</td>\n",
       "      <td>0.204537</td>\n",
       "      <td>-0.150192</td>\n",
       "      <td>-0.006818</td>\n",
       "      <td>0.001974</td>\n",
       "      <td>1.000000</td>\n",
       "      <td>-0.004932</td>\n",
       "    </tr>\n",
       "    <tr>\n",
       "      <th>year</th>\n",
       "      <td>-0.004797</td>\n",
       "      <td>0.012021</td>\n",
       "      <td>-0.002482</td>\n",
       "      <td>-0.012548</td>\n",
       "      <td>0.061226</td>\n",
       "      <td>0.058540</td>\n",
       "      <td>-0.078606</td>\n",
       "      <td>-0.015221</td>\n",
       "      <td>-0.004234</td>\n",
       "      <td>0.001800</td>\n",
       "      <td>-0.004932</td>\n",
       "      <td>1.000000</td>\n",
       "    </tr>\n",
       "  </tbody>\n",
       "</table>\n",
       "</div>"
      ],
      "text/plain": [
       "              season   holiday  workingday   weather      temp     atemp  \\\n",
       "season      1.000000  0.029368   -0.008126  0.008879  0.258689  0.264744   \n",
       "holiday     0.029368  1.000000   -0.250491 -0.007074  0.000295 -0.005215   \n",
       "workingday -0.008126 -0.250491    1.000000  0.033772  0.029966  0.024660   \n",
       "weather     0.008879 -0.007074    0.033772  1.000000 -0.055035 -0.055376   \n",
       "temp        0.258689  0.000295    0.029966 -0.055035  1.000000  0.984948   \n",
       "atemp       0.264744 -0.005215    0.024660 -0.055376  0.984948  1.000000   \n",
       "humidity    0.190610  0.001929   -0.010880  0.406244 -0.064949 -0.043536   \n",
       "windspeed  -0.147121  0.008409    0.013373  0.007261 -0.017852 -0.057473   \n",
       "hour       -0.006546 -0.000354    0.002780 -0.022740  0.145430  0.140343   \n",
       "day         0.001729 -0.015877    0.009829 -0.007890  0.015551  0.011866   \n",
       "month       0.971524  0.001731   -0.003394  0.012144  0.257589  0.264173   \n",
       "year       -0.004797  0.012021   -0.002482 -0.012548  0.061226  0.058540   \n",
       "\n",
       "            humidity  windspeed      hour       day     month      year  \n",
       "season      0.190610  -0.147121 -0.006546  0.001729  0.971524 -0.004797  \n",
       "holiday     0.001929   0.008409 -0.000354 -0.015877  0.001731  0.012021  \n",
       "workingday -0.010880   0.013373  0.002780  0.009829 -0.003394 -0.002482  \n",
       "weather     0.406244   0.007261 -0.022740 -0.007890  0.012144 -0.012548  \n",
       "temp       -0.064949  -0.017852  0.145430  0.015551  0.257589  0.061226  \n",
       "atemp      -0.043536  -0.057473  0.140343  0.011866  0.264173  0.058540  \n",
       "humidity    1.000000  -0.318607 -0.278011 -0.011335  0.204537 -0.078606  \n",
       "windspeed  -0.318607   1.000000  0.146631  0.036157 -0.150192 -0.015221  \n",
       "hour       -0.278011   0.146631  1.000000  0.001132 -0.006818 -0.004234  \n",
       "day        -0.011335   0.036157  0.001132  1.000000  0.001974  0.001800  \n",
       "month       0.204537  -0.150192 -0.006818  0.001974  1.000000 -0.004932  \n",
       "year       -0.078606  -0.015221 -0.004234  0.001800 -0.004932  1.000000  "
      ]
     },
     "execution_count": 10,
     "metadata": {},
     "output_type": "execute_result"
    }
   ],
   "source": [
    "x_train.corr()"
   ]
  },
  {
   "cell_type": "code",
   "execution_count": 11,
   "metadata": {
    "collapsed": true
   },
   "outputs": [],
   "source": [
    "x_train['season']=x_train['season'].astype('category')\n",
    "x_train['weather']=x_train['weather'].astype('category')"
   ]
  },
  {
   "cell_type": "code",
   "execution_count": 12,
   "metadata": {
    "collapsed": true
   },
   "outputs": [],
   "source": [
    "x_test['season']=x_test['season'].astype('category')\n",
    "x_test['weather']=x_test['weather'].astype('category')"
   ]
  },
  {
   "cell_type": "code",
   "execution_count": 104,
   "metadata": {
    "collapsed": false
   },
   "outputs": [
    {
     "name": "stdout",
     "output_type": "stream",
     "text": [
      "** Nom des variables : \n",
      " \n",
      "Index(['datetime', 'season', 'holiday', 'workingday', 'weather', 'temp',\n",
      "       'atemp', 'humidity', 'windspeed', 'hour', 'day', 'month', 'year'],\n",
      "      dtype='object')\n",
      "\n",
      " ** Stats descriptives sur les variables numériques : \n",
      " \n",
      "            holiday    workingday         temp         atemp      humidity  \\\n",
      "count  10886.000000  10886.000000  10886.00000  10886.000000  10886.000000   \n",
      "mean       0.028569      0.680875     20.23086     23.655084     61.886460   \n",
      "std        0.166599      0.466159      7.79159      8.474601     19.245033   \n",
      "min        0.000000      0.000000      0.82000      0.760000      0.000000   \n",
      "25%        0.000000      0.000000     13.94000     16.665000     47.000000   \n",
      "50%        0.000000      1.000000     20.50000     24.240000     62.000000   \n",
      "75%        0.000000      1.000000     26.24000     31.060000     77.000000   \n",
      "max        1.000000      1.000000     41.00000     45.455000    100.000000   \n",
      "\n",
      "          windspeed          hour           day         month          year  \n",
      "count  10886.000000  10886.000000  10886.000000  10886.000000  10886.000000  \n",
      "mean      12.799395     11.541613      9.992559      6.521495   2011.501929  \n",
      "std        8.164537      6.915838      5.476608      3.444373      0.500019  \n",
      "min        0.000000      0.000000      1.000000      1.000000   2011.000000  \n",
      "25%        7.001500      6.000000      5.000000      4.000000   2011.000000  \n",
      "50%       12.998000     12.000000     10.000000      7.000000   2012.000000  \n",
      "75%       16.997900     18.000000     15.000000     10.000000   2012.000000  \n",
      "max       56.996900     23.000000     19.000000     12.000000   2012.000000  \n",
      "\n",
      "\n",
      "** Nombre de valeurs manquantes dans les données de training : \n",
      " \n",
      "datetime      0\n",
      "season        0\n",
      "holiday       0\n",
      "workingday    0\n",
      "weather       0\n",
      "temp          0\n",
      "atemp         0\n",
      "humidity      0\n",
      "windspeed     0\n",
      "hour          0\n",
      "day           0\n",
      "month         0\n",
      "year          0\n",
      "dtype: int64\n"
     ]
    },
    {
     "data": {
      "image/png": "[encoded data removed]",
      "text/plain": [
       "<matplotlib.figure.Figure at 0x5e4a978>"
      ]
     },
     "metadata": {},
     "output_type": "display_data"
    }
   ],
   "source": [
    "print(\"** Nom des variables : \\n \")\n",
    "print(x_train.columns)\n",
    "\n",
    "r_mean = pandas.rolling_mean(y,window=24*30)\n",
    "r_std = pandas.rolling_var(y,window=24)\n",
    "plt.figure(num=None, figsize=(20, 6), dpi=80, facecolor='w', edgecolor='k')\n",
    "plt.plot(x_train[\"datetime\"], np.log(y).diff(),'r')\n",
    "#plt.plot(x_train[\"datetime\"],r_mean,'b')\n",
    "#plt.plot(x_train[\"datetime\"],r_std,'y')\n",
    "\n",
    "print(\"\\n ** Stats descriptives sur les variables numériques : \\n \")\n",
    "print(x_train.describe())\n",
    "\n",
    "print(\"\\n\")\n",
    "print(\"** Nombre de valeurs manquantes dans les données de training : \\n \")\n",
    "print(x_train.isnull().sum(axis=0))"
   ]
  },
  {
   "cell_type": "code",
   "execution_count": 113,
   "metadata": {
    "collapsed": false
   },
   "outputs": [],
   "source": [
    "#ACF and PACF plots:\n",
    "from statsmodels.tsa.stattools import acf, pacf\n",
    "\n",
    "ts_log_diff = np.diff(np.log(y))\n",
    "\n",
    "lag_acf = acf(ts_log_diff, nlags=10)\n",
    "lag_pacf = pacf(ts_log_diff, nlags=20, method='ols')\n",
    "\n"
   ]
  },
  {
   "cell_type": "code",
   "execution_count": 115,
   "metadata": {
    "collapsed": false
   },
   "outputs": [
    {
     "data": {
      "image/png": "[encoded data removed]",
      "text/plain": [
       "<matplotlib.figure.Figure at 0x61f0a90>"
      ]
     },
     "metadata": {},
     "output_type": "display_data"
    }
   ],
   "source": [
    "#Plot ACF: \n",
    "plt.subplot(121) \n",
    "plt.plot(lag_acf)\n",
    "plt.axhline(y=0,linestyle='--',color='gray')\n",
    "plt.axhline(y=-1.96/np.sqrt(len(ts_log_diff)),linestyle='--',color='gray')\n",
    "plt.axhline(y=1.96/np.sqrt(len(ts_log_diff)),linestyle='--',color='gray')\n",
    "plt.title('Autocorrelation Function')\n",
    "#Plot PACF:\n",
    "plt.subplot(122)\n",
    "plt.plot(lag_pacf)\n",
    "plt.axhline(y=0,linestyle='--',color='gray')\n",
    "plt.axhline(y=-1.96/np.sqrt(len(ts_log_diff)),linestyle='--',color='gray')\n",
    "plt.axhline(y=1.96/np.sqrt(len(ts_log_diff)),linestyle='--',color='gray')\n",
    "plt.title('Partial Autocorrelation Function')\n",
    "plt.tight_layout()"
   ]
  },
  {
   "cell_type": "markdown",
   "metadata": {},
   "source": [
    "## Eclatement des variables catégorielles en plusieus variables dichotomiques"
   ]
  },
  {
   "cell_type": "code",
   "execution_count": 14,
   "metadata": {
    "collapsed": true
   },
   "outputs": [],
   "source": [
    "def dim_feature(x, feature_name):\n",
    "    dv =DictVectorizer()\n",
    "    z=dv.fit_transform(pandas.DataFrame(x[feature_name].apply(str)).to_dict(orient='records'))\n",
    "    feature_dimmed = pandas.DataFrame(z.toarray(),columns=dv.get_feature_names())\n",
    "    feature_dimmed = feature_dimmed.drop(feature_dimmed.columns[-1],axis=1)\n",
    "    return feature_dimmed"
   ]
  },
  {
   "cell_type": "code",
   "execution_count": 15,
   "metadata": {
    "collapsed": false
   },
   "outputs": [],
   "source": [
    "seasons_dimmed = dim_feature(x_train, 'season')\n",
    "weather_dimmed = dim_feature(x_train, 'weather')\n",
    "hour_dimmed = dim_feature(x_train, 'hour')\n",
    "#day_dimmed = dim_feature(x_train, 'day')\n",
    "month_dimmed =dim_feature(x_train, 'month')\n",
    "#year_dimmed =dim_feature(x_train,'year')\n",
    "\n",
    "seasons_dimmed_test = dim_feature(x_test, 'season')\n",
    "weather_dimmed_test = dim_feature(x_test, 'weather')\n",
    "hour_dimmed_test = dim_feature(x_test, 'hour')\n",
    "#day_dimmed_test = dim_feature(x_test, 'day')\n",
    "month_dimmed_test =dim_feature(x_test, 'month')\n",
    "#year_dimmed_test =dim_feature(x_test,'year')"
   ]
  },
  {
   "cell_type": "code",
   "execution_count": 30,
   "metadata": {
    "collapsed": false
   },
   "outputs": [],
   "source": [
    "x_train_final = pandas.concat([x_train,seasons_dimmed,weather_dimmed,hour_dimmed,month_dimmed],axis=1)\n",
    "\n",
    "x_train_final = x_train_final.drop('weather',axis=1)\n",
    "x_train_final = x_train_final.drop('season',axis=1)"
   ]
  },
  {
   "cell_type": "code",
   "execution_count": 31,
   "metadata": {
    "collapsed": false
   },
   "outputs": [],
   "source": [
    "x_test_final = pandas.concat([x_test,seasons_dimmed_test,weather_dimmed_test,hour_dimmed_test,month_dimmed_test],axis=1)\n",
    "\n",
    "x_test_final = x_test_final.drop('weather',axis=1)\n",
    "x_test_final = x_test_final.drop('season',axis=1)"
   ]
  },
  {
   "cell_type": "code",
   "execution_count": 32,
   "metadata": {
    "collapsed": false
   },
   "outputs": [
    {
     "data": {
      "text/plain": [
       "Index(['datetime', 'holiday', 'workingday', 'temp', 'atemp', 'humidity',\n",
       "       'windspeed', 'hour', 'day', 'month', 'year', 'season=1', 'season=2',\n",
       "       'season=3', 'weather=1', 'weather=2', 'weather=3', 'hour=0', 'hour=1',\n",
       "       'hour=10', 'hour=11', 'hour=12', 'hour=13', 'hour=14', 'hour=15',\n",
       "       'hour=16', 'hour=17', 'hour=18', 'hour=19', 'hour=2', 'hour=20',\n",
       "       'hour=21', 'hour=22', 'hour=23', 'hour=3', 'hour=4', 'hour=5', 'hour=6',\n",
       "       'hour=7', 'hour=8', 'month=1', 'month=10', 'month=11', 'month=12',\n",
       "       'month=2', 'month=3', 'month=4', 'month=5', 'month=6', 'month=7',\n",
       "       'month=8'],\n",
       "      dtype='object')"
      ]
     },
     "execution_count": 32,
     "metadata": {},
     "output_type": "execute_result"
    }
   ],
   "source": [
    "x_train_final.columns"
   ]
  },
  {
   "cell_type": "code",
   "execution_count": 33,
   "metadata": {
    "collapsed": true
   },
   "outputs": [],
   "source": [
    "x_train_no_date = x_train_final.drop([\"datetime\",\"year\",\"hour\",\"day\",\"month\"], axis=1)"
   ]
  },
  {
   "cell_type": "code",
   "execution_count": 34,
   "metadata": {
    "collapsed": true
   },
   "outputs": [],
   "source": [
    "x_test_no_date = x_test_final.drop([\"year\",\"hour\",\"day\",\"month\"], axis=1)"
   ]
  },
  {
   "cell_type": "code",
   "execution_count": 65,
   "metadata": {
    "collapsed": false
   },
   "outputs": [
    {
     "data": {
      "text/plain": [
       "datetime      datetime64[ns]\n",
       "holiday                int64\n",
       "workingday             int64\n",
       "temp                 float64\n",
       "atemp                float64\n",
       "humidity               int64\n",
       "windspeed            float64\n",
       "season=1             float64\n",
       "season=2             float64\n",
       "season=3             float64\n",
       "weather=1            float64\n",
       "weather=2            float64\n",
       "weather=3            float64\n",
       "hour=0               float64\n",
       "hour=1               float64\n",
       "hour=10              float64\n",
       "hour=11              float64\n",
       "hour=12              float64\n",
       "hour=13              float64\n",
       "hour=14              float64\n",
       "hour=15              float64\n",
       "hour=16              float64\n",
       "hour=17              float64\n",
       "hour=18              float64\n",
       "hour=19              float64\n",
       "hour=2               float64\n",
       "hour=20              float64\n",
       "hour=21              float64\n",
       "hour=22              float64\n",
       "hour=23              float64\n",
       "hour=3               float64\n",
       "hour=4               float64\n",
       "hour=5               float64\n",
       "hour=6               float64\n",
       "hour=7               float64\n",
       "hour=8               float64\n",
       "month=1              float64\n",
       "month=10             float64\n",
       "month=11             float64\n",
       "month=12             float64\n",
       "month=2              float64\n",
       "month=3              float64\n",
       "month=4              float64\n",
       "month=5              float64\n",
       "month=6              float64\n",
       "month=7              float64\n",
       "month=8              float64\n",
       "dtype: object"
      ]
     },
     "execution_count": 65,
     "metadata": {},
     "output_type": "execute_result"
    }
   ],
   "source": [
    "x_test_no_date.dtypes"
   ]
  },
  {
   "cell_type": "markdown",
   "metadata": {},
   "source": [
    "## Setting up the model "
   ]
  },
  {
   "cell_type": "code",
   "execution_count": 36,
   "metadata": {
    "collapsed": false
   },
   "outputs": [],
   "source": [
    "X_train, X_test, count_train, count_test = train_test_split(x_train_no_date, y, test_size=0.33, random_state=1234)"
   ]
  },
  {
   "cell_type": "code",
   "execution_count": 37,
   "metadata": {
    "collapsed": true
   },
   "outputs": [],
   "source": [
    "X_train_re, X_test_re, registered_train, registered_test = train_test_split(x_train_no_date, registered, test_size=0.33, random_state=1234)"
   ]
  },
  {
   "cell_type": "code",
   "execution_count": 38,
   "metadata": {
    "collapsed": true
   },
   "outputs": [],
   "source": [
    "X_train_ca, X_test_ca, casual_train, casual_test = train_test_split(x_train_no_date, casual, test_size=0.33, random_state=1234)"
   ]
  },
  {
   "cell_type": "markdown",
   "metadata": {},
   "source": [
    "Mean squared error of log($\\hat{y} +1 $) and log(y + 1)"
   ]
  },
  {
   "cell_type": "code",
   "execution_count": 39,
   "metadata": {
    "collapsed": true
   },
   "outputs": [],
   "source": [
    "def compute_kaggle_score(y_hat,y):\n",
    "    return mean_squared_error(pandas.Series(np.log(y_hat+1)),np.log(y+1))"
   ]
  },
  {
   "cell_type": "markdown",
   "metadata": {},
   "source": [
    "### 1) Estimating count directly"
   ]
  },
  {
   "cell_type": "code",
   "execution_count": 93,
   "metadata": {
    "collapsed": false
   },
   "outputs": [
    {
     "data": {
      "text/plain": [
       "RidgeCV(alphas=[0.1, 1.0, 10.0], cv=5, fit_intercept=True, gcv_mode=None,\n",
       "    normalize=True,\n",
       "    scoring=<function mean_squared_error at 0x0000000009A41510>,\n",
       "    store_cv_values=False)"
      ]
     },
     "execution_count": 93,
     "metadata": {},
     "output_type": "execute_result"
    }
   ],
   "source": [
    "reg = linear_model.RidgeCV(alphas=[0.1, 1.0, 10.0], cv=5, fit_intercept=True,normalize=True, scoring = mean_squared_error)\n",
    "reg.fit(X_train,count_train)       "
   ]
  },
  {
   "cell_type": "code",
   "execution_count": 41,
   "metadata": {
    "collapsed": false
   },
   "outputs": [
    {
     "name": "stdout",
     "output_type": "stream",
     "text": [
      "0.956243521662\n",
      "0.989032197844\n"
     ]
    }
   ],
   "source": [
    "y_hat_train = reg.predict(X_train)\n",
    "y_hat_test = reg.predict(X_test)\n",
    "\n",
    "# Training error\n",
    "print(compute_kaggle_score(abs(y_hat_train),count_train))\n",
    "\n",
    "# Test error\n",
    "print(compute_kaggle_score(abs(y_hat_test),count_test))"
   ]
  },
  {
   "cell_type": "code",
   "execution_count": 45,
   "metadata": {
    "collapsed": true
   },
   "outputs": [],
   "source": [
    "from sklearn.ensemble import GradientBoostingRegressor\n",
    "est = GradientBoostingRegressor(n_estimators=1000, learning_rate=0.1,max_depth=2, random_state=0, loss='ls')"
   ]
  },
  {
   "cell_type": "code",
   "execution_count": 46,
   "metadata": {
    "collapsed": false
   },
   "outputs": [
    {
     "data": {
      "text/plain": [
       "GradientBoostingRegressor(alpha=0.9, init=None, learning_rate=0.1, loss='ls',\n",
       "             max_depth=2, max_features=None, max_leaf_nodes=None,\n",
       "             min_samples_leaf=1, min_samples_split=2,\n",
       "             min_weight_fraction_leaf=0.0, n_estimators=1000,\n",
       "             presort='auto', random_state=0, subsample=1.0, verbose=0,\n",
       "             warm_start=False)"
      ]
     },
     "execution_count": 46,
     "metadata": {},
     "output_type": "execute_result"
    }
   ],
   "source": [
    "est.fit(X_train,count_train)"
   ]
  },
  {
   "cell_type": "code",
   "execution_count": 59,
   "metadata": {
    "collapsed": false
   },
   "outputs": [
    {
     "name": "stdout",
     "output_type": "stream",
     "text": [
      "0.47456306267\n",
      "0.523509955116\n"
     ]
    }
   ],
   "source": [
    "y_hat_train = est.predict(X_train)\n",
    "y_hat_test = est.predict(X_test)\n",
    "\n",
    "# Training error\n",
    "print(compute_kaggle_score(abs(y_hat_train),count_train))\n",
    "\n",
    "# Test error\n",
    "print(compute_kaggle_score(abs(y_hat_test),count_test))"
   ]
  },
  {
   "cell_type": "code",
   "execution_count": 66,
   "metadata": {
    "collapsed": false
   },
   "outputs": [],
   "source": [
    "y_test = est.predict(x_test_no_date.drop('datetime',axis=1))"
   ]
  },
  {
   "cell_type": "code",
   "execution_count": 68,
   "metadata": {
    "collapsed": true
   },
   "outputs": [],
   "source": [
    "y_hat_test = pandas.concat([x_test_no_date[\"datetime\"],pandas.DataFrame(abs(y_test))],axis=1)\n",
    "y_hat_test.to_csv('results.csv',index=False)"
   ]
  },
  {
   "cell_type": "code",
   "execution_count": 72,
   "metadata": {
    "collapsed": false
   },
   "outputs": [],
   "source": [
    "from sklearn.cross_validation import cross_val_predict\n",
    "\n",
    "y_hat_train = cross_val_predict(est, x_train_no_date, y, cv=5)"
   ]
  },
  {
   "cell_type": "code",
   "execution_count": 76,
   "metadata": {
    "collapsed": false
   },
   "outputs": [
    {
     "name": "stdout",
     "output_type": "stream",
     "text": [
      "0.844499659195\n"
     ]
    }
   ],
   "source": [
    "print(compute_kaggle_score(abs(y_hat_train),y))"
   ]
  },
  {
   "cell_type": "markdown",
   "metadata": {},
   "source": [
    "### 2) Estimating registered and casual one by one , and sum "
   ]
  },
  {
   "cell_type": "code",
   "execution_count": 89,
   "metadata": {
    "collapsed": false
   },
   "outputs": [
    {
     "data": {
      "text/plain": [
       "RidgeCV(alphas=[0.1, 1.0, 10.0], cv=5, fit_intercept=True, gcv_mode=None,\n",
       "    normalize=True,\n",
       "    scoring=<function mean_squared_error at 0x00000000097892F0>,\n",
       "    store_cv_values=False)"
      ]
     },
     "execution_count": 89,
     "metadata": {},
     "output_type": "execute_result"
    }
   ],
   "source": [
    "reg = linear_model.RidgeCV(alphas=[0.1, 1.0, 10.0], cv=5, fit_intercept=True,normalize=True, scoring = mean_squared_error)\n",
    "reg.fit(X_train_re,registered_train)   "
   ]
  },
  {
   "cell_type": "code",
   "execution_count": 46,
   "metadata": {
    "collapsed": false
   },
   "outputs": [
    {
     "name": "stdout",
     "output_type": "stream",
     "text": [
      "9503.9540852\n",
      "9589.18491322\n"
     ]
    }
   ],
   "source": [
    "re_hat_train = reg.predict(X_train)\n",
    "re_hat_test = reg.predict(X_test)\n",
    "\n",
    "# Training error\n",
    "print(mean_squared_error(re_hat_train,registered_train))\n",
    "\n",
    "# Test error\n",
    "print(mean_squared_error(re_hat_test,registered_test))"
   ]
  },
  {
   "cell_type": "code",
   "execution_count": 47,
   "metadata": {
    "collapsed": false
   },
   "outputs": [
    {
     "data": {
      "text/plain": [
       "RidgeCV(alphas=[0.1, 1.0, 10.0], cv=5, fit_intercept=True, gcv_mode=None,\n",
       "    normalize=True,\n",
       "    scoring=<function mean_squared_error at 0x00000000097892F0>,\n",
       "    store_cv_values=False)"
      ]
     },
     "execution_count": 47,
     "metadata": {},
     "output_type": "execute_result"
    }
   ],
   "source": [
    "reg = linear_model.RidgeCV(alphas=[0.1, 1.0, 10.0], cv=5, fit_intercept=True,normalize=True, scoring = mean_squared_error)\n",
    "reg.fit(X_train_ca,casual_train)   "
   ]
  },
  {
   "cell_type": "code",
   "execution_count": 48,
   "metadata": {
    "collapsed": false
   },
   "outputs": [
    {
     "name": "stdout",
     "output_type": "stream",
     "text": [
      "1040.96482729\n",
      "1025.62780726\n"
     ]
    }
   ],
   "source": [
    "ca_hat_train = reg.predict(X_train)\n",
    "ca_hat_test = reg.predict(X_test)\n",
    "\n",
    "# Training error\n",
    "print(mean_squared_error(ca_hat_train,casual_train))\n",
    "\n",
    "# Test error\n",
    "print(mean_squared_error(ca_hat_test,casual_test))"
   ]
  },
  {
   "cell_type": "markdown",
   "metadata": {},
   "source": [
    "Sum of casual and registered"
   ]
  },
  {
   "cell_type": "code",
   "execution_count": 61,
   "metadata": {
    "collapsed": false
   },
   "outputs": [
    {
     "name": "stdout",
     "output_type": "stream",
     "text": [
      "40.623940704\n",
      "12967.033654\n"
     ]
    }
   ],
   "source": [
    "# Training error\n",
    "print(mean_squared_error(ca_hat_train + re_hat_train,count_train)/max((ca_hat_train+re_hat_train - count_train))\n",
    "\n",
    "# Test error\n",
    "print(mean_squared_error(ca_hat_test + re_hat_test,count_test))"
   ]
  },
  {
   "cell_type": "code",
   "execution_count": 137,
   "metadata": {
    "collapsed": false
   },
   "outputs": [
    {
     "data": {
      "text/plain": [
       "0.65530951512236424"
      ]
     },
     "execution_count": 137,
     "metadata": {},
     "output_type": "execute_result"
    }
   ],
   "source": [
    "reg.score(X_train,abs(count_train))"
   ]
  },
  {
   "cell_type": "code",
   "execution_count": 112,
   "metadata": {
    "collapsed": false
   },
   "outputs": [
    {
     "data": {
      "text/plain": [
       "0.63440006552013695"
      ]
     },
     "execution_count": 112,
     "metadata": {},
     "output_type": "execute_result"
    }
   ],
   "source": [
    "reg.score(X_test,count_test)"
   ]
  },
  {
   "cell_type": "code",
   "execution_count": 147,
   "metadata": {
    "collapsed": false
   },
   "outputs": [],
   "source": [
    "y_hat_test = reg.predict(x_test_no_date.drop(\"datetime\",axis=1))"
   ]
  },
  {
   "cell_type": "code",
   "execution_count": 50,
   "metadata": {
    "collapsed": false
   },
   "outputs": [],
   "source": [
    "y_hat_test = pandas.concat([x_test_no_date[\"datetime\"],pandas.DataFrame(y_hat_test)],axis=1)"
   ]
  },
  {
   "cell_type": "code",
   "execution_count": 51,
   "metadata": {
    "collapsed": false
   },
   "outputs": [
    {
     "ename": "TypeError",
     "evalue": "'int' object is not iterable",
     "output_type": "error",
     "traceback": [
      "\u001b[1;31m---------------------------------------------------------------------------\u001b[0m",
      "\u001b[1;31mValueError\u001b[0m                                Traceback (most recent call last)",
      "\u001b[1;32mc:\\users\\wymeka\\documents\\python\\python\\lib\\site-packages\\pandas\\core\\common.py\u001b[0m in \u001b[0;36m_asarray_tuplesafe\u001b[1;34m(values, dtype)\u001b[0m\n\u001b[0;32m   2389\u001b[0m                 \u001b[0mresult\u001b[0m \u001b[1;33m=\u001b[0m \u001b[0mnp\u001b[0m\u001b[1;33m.\u001b[0m\u001b[0mempty\u001b[0m\u001b[1;33m(\u001b[0m\u001b[0mlen\u001b[0m\u001b[1;33m(\u001b[0m\u001b[0mvalues\u001b[0m\u001b[1;33m)\u001b[0m\u001b[1;33m,\u001b[0m \u001b[0mdtype\u001b[0m\u001b[1;33m=\u001b[0m\u001b[0mobject\u001b[0m\u001b[1;33m)\u001b[0m\u001b[1;33m\u001b[0m\u001b[0m\n\u001b[1;32m-> 2390\u001b[1;33m                 \u001b[0mresult\u001b[0m\u001b[1;33m[\u001b[0m\u001b[1;33m:\u001b[0m\u001b[1;33m]\u001b[0m \u001b[1;33m=\u001b[0m \u001b[0mvalues\u001b[0m\u001b[1;33m\u001b[0m\u001b[0m\n\u001b[0m\u001b[0;32m   2391\u001b[0m             \u001b[1;32mexcept\u001b[0m \u001b[0mValueError\u001b[0m\u001b[1;33m:\u001b[0m\u001b[1;33m\u001b[0m\u001b[0m\n",
      "\u001b[1;31mValueError\u001b[0m: could not broadcast input array from shape (6493,2) into shape (6493)",
      "\nDuring handling of the above exception, another exception occurred:\n",
      "\u001b[1;31mTypeError\u001b[0m                                 Traceback (most recent call last)",
      "\u001b[1;32m<ipython-input-51-628c2b5501fa>\u001b[0m in \u001b[0;36m<module>\u001b[1;34m()\u001b[0m\n\u001b[1;32m----> 1\u001b[1;33m \u001b[0mpandas\u001b[0m\u001b[1;33m.\u001b[0m\u001b[0mSeries\u001b[0m\u001b[1;33m(\u001b[0m\u001b[0my_hat_test\u001b[0m\u001b[1;33m)\u001b[0m\u001b[1;33m.\u001b[0m\u001b[0mto_csv\u001b[0m\u001b[1;33m(\u001b[0m\u001b[1;34m'results.csv'\u001b[0m\u001b[1;33m,\u001b[0m\u001b[0mindex\u001b[0m\u001b[1;33m=\u001b[0m\u001b[1;32mFalse\u001b[0m\u001b[1;33m)\u001b[0m\u001b[1;33m\u001b[0m\u001b[0m\n\u001b[0m",
      "\u001b[1;32mc:\\users\\wymeka\\documents\\python\\python\\lib\\site-packages\\pandas\\core\\series.py\u001b[0m in \u001b[0;36m__init__\u001b[1;34m(self, data, index, dtype, name, copy, fastpath)\u001b[0m\n\u001b[0;32m    217\u001b[0m             \u001b[1;32melse\u001b[0m\u001b[1;33m:\u001b[0m\u001b[1;33m\u001b[0m\u001b[0m\n\u001b[0;32m    218\u001b[0m                 data = _sanitize_array(data, index, dtype, copy,\n\u001b[1;32m--> 219\u001b[1;33m                                        raise_cast_failure=True)\n\u001b[0m\u001b[0;32m    220\u001b[0m \u001b[1;33m\u001b[0m\u001b[0m\n\u001b[0;32m    221\u001b[0m                 \u001b[0mdata\u001b[0m \u001b[1;33m=\u001b[0m \u001b[0mSingleBlockManager\u001b[0m\u001b[1;33m(\u001b[0m\u001b[0mdata\u001b[0m\u001b[1;33m,\u001b[0m \u001b[0mindex\u001b[0m\u001b[1;33m,\u001b[0m \u001b[0mfastpath\u001b[0m\u001b[1;33m=\u001b[0m\u001b[1;32mTrue\u001b[0m\u001b[1;33m)\u001b[0m\u001b[1;33m\u001b[0m\u001b[0m\n",
      "\u001b[1;32mc:\\users\\wymeka\\documents\\python\\python\\lib\\site-packages\\pandas\\core\\series.py\u001b[0m in \u001b[0;36m_sanitize_array\u001b[1;34m(data, index, dtype, copy, raise_cast_failure)\u001b[0m\n\u001b[0;32m   2859\u001b[0m             \u001b[1;32mraise\u001b[0m \u001b[0mException\u001b[0m\u001b[1;33m(\u001b[0m\u001b[1;34m'Data must be 1-dimensional'\u001b[0m\u001b[1;33m)\u001b[0m\u001b[1;33m\u001b[0m\u001b[0m\n\u001b[0;32m   2860\u001b[0m         \u001b[1;32melse\u001b[0m\u001b[1;33m:\u001b[0m\u001b[1;33m\u001b[0m\u001b[0m\n\u001b[1;32m-> 2861\u001b[1;33m             \u001b[0msubarr\u001b[0m \u001b[1;33m=\u001b[0m \u001b[0m_asarray_tuplesafe\u001b[0m\u001b[1;33m(\u001b[0m\u001b[0mdata\u001b[0m\u001b[1;33m,\u001b[0m \u001b[0mdtype\u001b[0m\u001b[1;33m=\u001b[0m\u001b[0mdtype\u001b[0m\u001b[1;33m)\u001b[0m\u001b[1;33m\u001b[0m\u001b[0m\n\u001b[0m\u001b[0;32m   2862\u001b[0m \u001b[1;33m\u001b[0m\u001b[0m\n\u001b[0;32m   2863\u001b[0m     \u001b[1;31m# This is to prevent mixed-type Series getting all casted to\u001b[0m\u001b[1;33m\u001b[0m\u001b[1;33m\u001b[0m\u001b[0m\n",
      "\u001b[1;32mc:\\users\\wymeka\\documents\\python\\python\\lib\\site-packages\\pandas\\core\\common.py\u001b[0m in \u001b[0;36m_asarray_tuplesafe\u001b[1;34m(values, dtype)\u001b[0m\n\u001b[0;32m   2391\u001b[0m             \u001b[1;32mexcept\u001b[0m \u001b[0mValueError\u001b[0m\u001b[1;33m:\u001b[0m\u001b[1;33m\u001b[0m\u001b[0m\n\u001b[0;32m   2392\u001b[0m                 \u001b[1;31m# we have a list-of-list\u001b[0m\u001b[1;33m\u001b[0m\u001b[1;33m\u001b[0m\u001b[0m\n\u001b[1;32m-> 2393\u001b[1;33m                 \u001b[0mresult\u001b[0m\u001b[1;33m[\u001b[0m\u001b[1;33m:\u001b[0m\u001b[1;33m]\u001b[0m \u001b[1;33m=\u001b[0m \u001b[1;33m[\u001b[0m\u001b[0mtuple\u001b[0m\u001b[1;33m(\u001b[0m\u001b[0mx\u001b[0m\u001b[1;33m)\u001b[0m \u001b[1;32mfor\u001b[0m \u001b[0mx\u001b[0m \u001b[1;32min\u001b[0m \u001b[0mvalues\u001b[0m\u001b[1;33m]\u001b[0m\u001b[1;33m\u001b[0m\u001b[0m\n\u001b[0m\u001b[0;32m   2394\u001b[0m \u001b[1;33m\u001b[0m\u001b[0m\n\u001b[0;32m   2395\u001b[0m     \u001b[1;32mreturn\u001b[0m \u001b[0mresult\u001b[0m\u001b[1;33m\u001b[0m\u001b[0m\n",
      "\u001b[1;32mc:\\users\\wymeka\\documents\\python\\python\\lib\\site-packages\\pandas\\core\\common.py\u001b[0m in \u001b[0;36m<listcomp>\u001b[1;34m(.0)\u001b[0m\n\u001b[0;32m   2391\u001b[0m             \u001b[1;32mexcept\u001b[0m \u001b[0mValueError\u001b[0m\u001b[1;33m:\u001b[0m\u001b[1;33m\u001b[0m\u001b[0m\n\u001b[0;32m   2392\u001b[0m                 \u001b[1;31m# we have a list-of-list\u001b[0m\u001b[1;33m\u001b[0m\u001b[1;33m\u001b[0m\u001b[0m\n\u001b[1;32m-> 2393\u001b[1;33m                 \u001b[0mresult\u001b[0m\u001b[1;33m[\u001b[0m\u001b[1;33m:\u001b[0m\u001b[1;33m]\u001b[0m \u001b[1;33m=\u001b[0m \u001b[1;33m[\u001b[0m\u001b[0mtuple\u001b[0m\u001b[1;33m(\u001b[0m\u001b[0mx\u001b[0m\u001b[1;33m)\u001b[0m \u001b[1;32mfor\u001b[0m \u001b[0mx\u001b[0m \u001b[1;32min\u001b[0m \u001b[0mvalues\u001b[0m\u001b[1;33m]\u001b[0m\u001b[1;33m\u001b[0m\u001b[0m\n\u001b[0m\u001b[0;32m   2394\u001b[0m \u001b[1;33m\u001b[0m\u001b[0m\n\u001b[0;32m   2395\u001b[0m     \u001b[1;32mreturn\u001b[0m \u001b[0mresult\u001b[0m\u001b[1;33m\u001b[0m\u001b[0m\n",
      "\u001b[1;31mTypeError\u001b[0m: 'int' object is not iterable"
     ]
    }
   ],
   "source": [
    "pandas.Series(y_hat_test).to_csv('results.csv',index=False)"
   ]
  },
  {
   "cell_type": "code",
   "execution_count": 88,
   "metadata": {
    "collapsed": true
   },
   "outputs": [],
   "source": [
    "from sklearn.ensemble import RandomForestRegressor\n",
    "rf = RandomForestRegressor(n_estimators=1000, criterion='mse', max_depth=5)"
   ]
  },
  {
   "cell_type": "code",
   "execution_count": 89,
   "metadata": {
    "collapsed": false
   },
   "outputs": [
    {
     "name": "stdout",
     "output_type": "stream",
     "text": [
      "1.69362463495\n",
      "1.74446551671\n"
     ]
    }
   ],
   "source": [
    "rf.fit(X_train,count_train)\n",
    "y_hat_train = rf.predict(X_train)\n",
    "y_hat_test = rf.predict(X_test)\n",
    "\n",
    "# Training error\n",
    "print(compute_kaggle_score(abs(y_hat_train),count_train))\n",
    "\n",
    "# Test error\n",
    "print(compute_kaggle_score(abs(y_hat_test),count_test))"
   ]
  },
  {
   "cell_type": "code",
   "execution_count": 90,
   "metadata": {
    "collapsed": true
   },
   "outputs": [],
   "source": [
    "y_hat_train = cross_val_predict(rf, x_train_no_date, y, cv=5)"
   ]
  },
  {
   "cell_type": "code",
   "execution_count": 92,
   "metadata": {
    "collapsed": false
   },
   "outputs": [
    {
     "name": "stdout",
     "output_type": "stream",
     "text": [
      "1.88881112072\n"
     ]
    }
   ],
   "source": [
    "print(compute_kaggle_score(abs(y_hat_train),y))"
   ]
  },
  {
   "cell_type": "code",
   "execution_count": null,
   "metadata": {
    "collapsed": true
   },
   "outputs": [],
   "source": []
  }
 ],
 "metadata": {
  "kernelspec": {
   "display_name": "Python 3",
   "language": "python",
   "name": "python3"
  },
  "language_info": {
   "codemirror_mode": {
    "name": "ipython",
    "version": 3
   },
   "file_extension": ".py",
   "mimetype": "text/x-python",
   "name": "python",
   "nbconvert_exporter": "python",
   "pygments_lexer": "ipython3",
   "version": "3.4.3"
  }
 },
 "nbformat": 4,
 "nbformat_minor": 0
}
